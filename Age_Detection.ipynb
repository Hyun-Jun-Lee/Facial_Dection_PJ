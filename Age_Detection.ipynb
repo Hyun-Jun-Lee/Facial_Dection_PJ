{
  "nbformat": 4,
  "nbformat_minor": 0,
  "metadata": {
    "colab": {
      "name": "Age Detection.ipynb",
      "private_outputs": true,
      "provenance": [],
      "collapsed_sections": [],
      "include_colab_link": true
    },
    "kernelspec": {
      "name": "python3",
      "display_name": "Python 3"
    },
    "language_info": {
      "name": "python"
    },
    "accelerator": "GPU"
  },
  "cells": [
    {
      "cell_type": "markdown",
      "metadata": {
        "id": "view-in-github",
        "colab_type": "text"
      },
      "source": [
        "<a href=\"https://colab.research.google.com/github/Hyun-Jun-Lee/Facial_Dection_PJ/blob/master/Age_Detection.ipynb\" target=\"_parent\"><img src=\"https://colab.research.google.com/assets/colab-badge.svg\" alt=\"Open In Colab\"/></a>"
      ]
    },
    {
      "cell_type": "code",
      "metadata": {
        "id": "BXLIqUfXI20L"
      },
      "source": [
        "from google.colab import files\n",
        "files.upload()"
      ],
      "execution_count": null,
      "outputs": []
    },
    {
      "cell_type": "code",
      "metadata": {
        "id": "waPrx63jJV4x"
      },
      "source": [
        "!mkdir -p ~/.kaggle"
      ],
      "execution_count": null,
      "outputs": []
    },
    {
      "cell_type": "code",
      "metadata": {
        "id": "Jg-qWZGQJfIY"
      },
      "source": [
        "!cp kaggle.json ~/.kaggle/"
      ],
      "execution_count": null,
      "outputs": []
    },
    {
      "cell_type": "code",
      "metadata": {
        "id": "s4uoltQrJfPZ"
      },
      "source": [
        "# UTKFACE dataset 나이, 성별 인식\n",
        "!kaggle datasets download -d jangedoo/utkface-new"
      ],
      "execution_count": null,
      "outputs": []
    },
    {
      "cell_type": "code",
      "metadata": {
        "id": "cb407JlVlVZ2"
      },
      "source": [
        "# CKPULS dataset 감정 분석\n",
        "!kaggle datasets download -d shawon10/ckplus"
      ],
      "execution_count": null,
      "outputs": []
    },
    {
      "cell_type": "code",
      "metadata": {
        "id": "E2NpibhhKKSw"
      },
      "source": [
        "!ls"
      ],
      "execution_count": null,
      "outputs": []
    },
    {
      "cell_type": "code",
      "metadata": {
        "id": "YjPRTlczLG0g"
      },
      "source": [
        "!unzip utkface-new.zip"
      ],
      "execution_count": null,
      "outputs": []
    },
    {
      "cell_type": "code",
      "metadata": {
        "id": "kYb284A3ldby"
      },
      "source": [
        "!unzip ckplus.zip"
      ],
      "execution_count": null,
      "outputs": []
    },
    {
      "cell_type": "code",
      "metadata": {
        "id": "TzU_jBSTLOoe"
      },
      "source": [
        "ls"
      ],
      "execution_count": null,
      "outputs": []
    },
    {
      "cell_type": "code",
      "metadata": {
        "id": "2ujpXy4hh9lA"
      },
      "source": [
        "# 라이브러리 정리\n",
        "import os\n",
        "import numpy as np\n",
        "import pandas as pd\n",
        "import tensorflow as tf\n",
        "import keras\n",
        "from keras.models import Sequential\n",
        "from keras.layers import Conv2D, MaxPooling2D, AveragePooling2D\n",
        "from keras.layers import Dense, Activation, Dropout, Flatten\n",
        "from keras.preprocessing import image\n",
        "from keras.preprocessing.image import ImageDataGenerator\n",
        "import pandas as pd\n",
        "import numpy as np\n",
        "import matplotlib.pyplot as plt\n",
        "from keras.models import Sequential\n",
        "from keras.layers import Dense , Activation , Dropout ,Flatten\n",
        "from keras.layers.convolutional import Conv2D\n",
        "from keras.layers.convolutional import MaxPooling2D\n",
        "from keras.metrics import categorical_accuracy\n",
        "from keras.models import model_from_json\n",
        "from keras.callbacks import ModelCheckpoint\n",
        "from keras.optimizers import *\n",
        "from keras.layers.normalization import BatchNormalization\n",
        "from sklearn.model_selection import train_test_split\n",
        "from sklearn.model_selection import KFold\n",
        "from tensorflow.python.keras.callbacks import EarlyStopping\n",
        "from google.colab import files\n",
        "from skimage import io\n",
        "import pathlib\n",
        "import PIL\n",
        "from tensorflow.keras import layers"
      ],
      "execution_count": null,
      "outputs": []
    },
    {
      "cell_type": "code",
      "metadata": {
        "id": "dqU4tettMXj_"
      },
      "source": [
        "# 경로 확인\n",
        "path_utk = '/content/UTKFace'\n",
        "path_face_cropped = '/content/crop_part1'\n",
        "\n",
        "\n",
        "path_face_cropped = pathlib.Path(path_face_cropped)\n",
        "print(path_face_cropped)\n",
        "print(len(str(path_face_cropped)))\n",
        "\n",
        "image_count = len(list(path_face_cropped.glob('*.jpg')))\n",
        "print(image_count)"
      ],
      "execution_count": null,
      "outputs": []
    },
    {
      "cell_type": "code",
      "metadata": {
        "id": "hntnqFbmiOe0"
      },
      "source": [
        "faces = list(path_face_cropped.glob('*.jpg'))\n",
        "print(faces[1])\n",
        "img1 = PIL.Image.open(str(faces[1]))\n",
        "img1"
      ],
      "execution_count": null,
      "outputs": []
    },
    {
      "cell_type": "code",
      "metadata": {
        "id": "PVVkOGYUidp4"
      },
      "source": [
        "# 이미지 사이즈\n",
        "batch = 32\n",
        "img_height = 210\n",
        "img_width = 210"
      ],
      "execution_count": null,
      "outputs": []
    },
    {
      "cell_type": "markdown",
      "metadata": {
        "id": "JlmOV1qzrSEi"
      },
      "source": [
        "# Age Detection Model\n"
      ]
    },
    {
      "cell_type": "code",
      "metadata": {
        "id": "DcfvkzAAihFX"
      },
      "source": [
        "# 레이블 설정\n",
        "age_class=['0-20','21-40','41-60','61-80','81-116']"
      ],
      "execution_count": null,
      "outputs": []
    },
    {
      "cell_type": "code",
      "metadata": {
        "id": "tOYGloWHjWtl"
      },
      "source": [
        "# 데이터프레임\n",
        "df = pd.DataFrame(columns=['images','age','gender'])\n",
        "for img in faces:\n",
        "    new_img = str(img)\n",
        "    img = new_img.split(\"/\")\n",
        "    #print(img)\n",
        "    img_name = img[3]\n",
        "    img = img_name.split(\"_\")\n",
        "    #print(img)\n",
        "    #Making 0 and 1 into male and female to make it more interpretable\n",
        "    if img[1] == '0':\n",
        "        img[1] = 'male'\n",
        "    else:\n",
        "        img[1] = 'female'\n",
        "    #Making the age label into age ranges instead\n",
        "    img[0] = int(img[0])\n",
        "#     if int(img[0]) > 100:\n",
        "#         img[0] = '101-116'\n",
        "    if img[0] >80:\n",
        "        img[0] = '81-116'\n",
        "    elif img[0] > 60:\n",
        "        img[0] = '61-80'\n",
        "    elif img[0] > 40:\n",
        "        img[0] = '41-60'\n",
        "    elif img[0] > 20:\n",
        "        img[0] = '21-40'\n",
        "    else:\n",
        "        img[0] = '0-20'    \n",
        "    df2 = {'images':new_img,'age':img[0],'gender':img[1]}\n",
        "    df = df.append(df2,ignore_index=True)\n",
        "df"
      ],
      "execution_count": null,
      "outputs": []
    },
    {
      "cell_type": "code",
      "metadata": {
        "id": "3hnSanQ0jWvt"
      },
      "source": [
        "# 데이터 나누기\n",
        "\n",
        "df_data = df.images\n",
        "y_data = df.age\n",
        "y2_data = df.gender\n",
        "X_train, X_test, y_train, y_test = train_test_split(df_data, y_data, test_size=0.2)\n",
        "\n",
        "d = {'images':X_train,'age':y_train}\n",
        "df_train = pd.concat(d,axis=1)\n",
        "df_train.images"
      ],
      "execution_count": null,
      "outputs": []
    },
    {
      "cell_type": "code",
      "metadata": {
        "id": "m6wGH2FInxCX"
      },
      "source": [
        "df_data = df_train.images\n",
        "y_data = df_train.age\n",
        "y2_data = df.gender\n",
        "X_train, X_val, y_train, y_val = train_test_split(df_data, y_data, test_size=0.2)\n",
        "\n",
        "d = {'images':X_train,'age':y_train}\n",
        "train = pd.concat(d,axis=1)\n",
        "train"
      ],
      "execution_count": null,
      "outputs": []
    },
    {
      "cell_type": "code",
      "metadata": {
        "id": "9FK3g3ymn9Pk"
      },
      "source": [
        "# 레이블 확인 \n",
        "train['age'].value_counts()"
      ],
      "execution_count": null,
      "outputs": []
    },
    {
      "cell_type": "code",
      "metadata": {
        "id": "2LMxFUZ8oG-5"
      },
      "source": [
        "d = {'images':X_val,'age':y_val}\n",
        "val = pd.concat(d,axis=1)\n",
        "val"
      ],
      "execution_count": null,
      "outputs": []
    },
    {
      "cell_type": "code",
      "metadata": {
        "id": "OMJlcbOmoKBL"
      },
      "source": [
        "d = {'images':X_test,'age':y_test}\n",
        "df_test = pd.concat(d,axis=1)\n",
        "df_test"
      ],
      "execution_count": null,
      "outputs": []
    },
    {
      "cell_type": "code",
      "metadata": {
        "id": "B6UwcbxioMyL"
      },
      "source": [
        "# Generator\n",
        "train_gen = ImageDataGenerator(rescale=1./255)\n",
        "test_gen = ImageDataGenerator(rescale = 1./255)\n",
        "\n",
        "train_data = train_gen.flow_from_dataframe(dataframe = train, \n",
        "                                           x_col = 'images',\n",
        "                                           y_col = 'age', seed = 42,\n",
        "                                           batch_size = batch,\n",
        "                                           shuffle = True, \n",
        "                                           class_mode=\"sparse\",\n",
        "                                           target_size = (img_height,img_width))\n",
        "\n",
        "test_data = test_gen.flow_from_dataframe(dataframe = df_test,\n",
        "                                         x_col = 'images',\n",
        "                                         y_col = 'age',\n",
        "                                         batch_size = batch,\n",
        "                                         shuffle = True,\n",
        "                                         class_mode='sparse',\n",
        "                                         target_size = (img_height,img_width))\n",
        "\n",
        "val_data = train_gen.flow_from_dataframe(dataframe = val, \n",
        "                                           x_col = 'images',\n",
        "                                           y_col = 'age', seed = 42,\n",
        "                                           batch_size = batch,\n",
        "                                           shuffle = True, \n",
        "                                           class_mode=\"sparse\",\n",
        "                                           target_size = (img_height,img_width))"
      ],
      "execution_count": null,
      "outputs": []
    },
    {
      "cell_type": "code",
      "metadata": {
        "id": "s_6ZCNKiondd"
      },
      "source": [
        "for image_batch, labels_batch in train_data:\n",
        "  print(image_batch.shape)\n",
        "  print(labels_batch.shape)\n",
        "  break"
      ],
      "execution_count": null,
      "outputs": []
    },
    {
      "cell_type": "code",
      "metadata": {
        "id": "2Y97zuJoonfq"
      },
      "source": [
        "for image_batch, labels_batch in val_data:\n",
        "  print(image_batch.shape)\n",
        "  print(labels_batch.shape)\n",
        "  break"
      ],
      "execution_count": null,
      "outputs": []
    },
    {
      "cell_type": "code",
      "metadata": {
        "id": "zukStQIzjWx6"
      },
      "source": [
        "# Model\n",
        "\n",
        "normalization_layer = layers.experimental.preprocessing.Rescaling(1./255)\n",
        "conv_layer_32 = layers.Conv2D(32,(3,3),activation='relu')\n",
        "conv_layer_64 = layers.Conv2D(64,3,activation='relu')\n",
        "conv_layer_16 = layers.Conv2D(16,3,activation='relu')\n",
        "max_pool = layers.MaxPooling2D()\n",
        "callback = tf.keras.callbacks.EarlyStopping(monitor='val_accuracy', patience=5)\n",
        "callback2 = tf.keras.callbacks.EarlyStopping(monitor='val_loss', patience=5)"
      ],
      "execution_count": null,
      "outputs": []
    },
    {
      "cell_type": "code",
      "metadata": {
        "id": "DFVZovkppSLe"
      },
      "source": [
        "# 나이 인식 model\n",
        "\n",
        "num_classes = 5\n",
        "\n",
        "model = tf.keras.Sequential([\n",
        "  normalization_layer,\n",
        "  conv_layer_32,\n",
        "  max_pool,\n",
        "  conv_layer_32,\n",
        "  max_pool,\n",
        "  conv_layer_32,\n",
        "  max_pool,\n",
        "  #\n",
        "  conv_layer_32,\n",
        "  max_pool,\n",
        "  conv_layer_32,\n",
        "  max_pool,\n",
        "  conv_layer_32,\n",
        "  max_pool,\n",
        "  #  \n",
        "  conv_layer_32,\n",
        "  max_pool,\n",
        "  conv_layer_32,\n",
        "  max_pool,\n",
        "  conv_layer_32,\n",
        "  max_pool,\n",
        "    \n",
        "  layers.Flatten(),\n",
        "  layers.Dense(128, activation='relu'),\n",
        "  layers.Dense(num_classes)\n",
        "])\n",
        "\n",
        "model.compile(\n",
        "  optimizer='adam',\n",
        "  loss=tf.losses.SparseCategoricalCrossentropy(from_logits=True),\n",
        "  metrics=['accuracy'])"
      ],
      "execution_count": null,
      "outputs": []
    },
    {
      "cell_type": "code",
      "metadata": {
        "id": "ygkoomANpgp3"
      },
      "source": [
        "history = model.fit(\n",
        "    train_data,\n",
        "    validation_data=val_data,\n",
        "    epochs= 20,\n",
        "    callbacks = callback,\n",
        "    shuffle=False\n",
        ")\n",
        "eff_epochs = len(history.history['loss'])"
      ],
      "execution_count": null,
      "outputs": []
    },
    {
      "cell_type": "code",
      "metadata": {
        "id": "1QKRsOe1rDTF"
      },
      "source": [
        "model.summary()"
      ],
      "execution_count": null,
      "outputs": []
    },
    {
      "cell_type": "code",
      "metadata": {
        "id": "Cw9gilBrrHFY"
      },
      "source": [
        "# 성능확인\n",
        "results_age = model.evaluate(test_data)\n",
        "print(\"test loss, test acc:\", results_age)"
      ],
      "execution_count": null,
      "outputs": []
    },
    {
      "cell_type": "code",
      "metadata": {
        "id": "Hdsdbp0YzTmy"
      },
      "source": [
        "uploaded = files.upload()\n"
      ],
      "execution_count": null,
      "outputs": []
    },
    {
      "cell_type": "code",
      "metadata": {
        "id": "eO_ehT3I1HA_"
      },
      "source": [
        "path = '/content/testing.jpg'\n",
        "img = tf.keras.preprocessing.image.load_img(\n",
        "    path, target_size=(img_height, img_width)\n",
        ")\n",
        "img_array = tf.keras.preprocessing.image.img_to_array(img)\n",
        "img_array = tf.expand_dims(img_array, 0)"
      ],
      "execution_count": null,
      "outputs": []
    },
    {
      "cell_type": "code",
      "metadata": {
        "id": "dDI1A4Dm0Bsk"
      },
      "source": [
        "predictions = model.predict(img_array)\n",
        "score = tf.nn.softmax(predictions[0])\n",
        "\n",
        "plt.figure(figsize=(5,5))\n",
        "plt.imshow(img)\n",
        "print(\n",
        "    \"This image most likely belongs to {} with a {:.2f} percent confidence.\"\n",
        "    .format(age_class[np.argmax(score)], 100 * np.max(score))\n",
        ")"
      ],
      "execution_count": null,
      "outputs": []
    },
    {
      "cell_type": "code",
      "metadata": {
        "id": "jN5Lqhyi0L2b"
      },
      "source": [
        "path2 = '/content/agetest.jpg'\n",
        "img2 = tf.keras.preprocessing.image.load_img(\n",
        "    path2, target_size=(img_height, img_width)\n",
        ")\n",
        "img_array2 = tf.keras.preprocessing.image.img_to_array(img2)\n",
        "img_array2 = tf.expand_dims(img_array2, 0)"
      ],
      "execution_count": null,
      "outputs": []
    },
    {
      "cell_type": "code",
      "metadata": {
        "id": "O1GRnliH1xG-"
      },
      "source": [
        "predictions2 = model.predict(img_array2)\n",
        "score2 = tf.nn.softmax(predictions2[0])\n",
        "\n",
        "plt.figure(figsize=(5,5))\n",
        "plt.imshow(img2)\n",
        "print(\n",
        "    \"This image most likely belongs to {} with a {:.2f} percent confidence.\"\n",
        "    .format(age_class[np.argmax(score2)], 100 * np.max(score2))\n",
        ")"
      ],
      "execution_count": null,
      "outputs": []
    }
  ]
}