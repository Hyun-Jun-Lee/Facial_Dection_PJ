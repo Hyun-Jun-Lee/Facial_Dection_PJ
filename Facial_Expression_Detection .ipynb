{
  "nbformat": 4,
  "nbformat_minor": 0,
  "metadata": {
    "colab": {
      "name": "Facial Expression Detection.ipynb",
      "private_outputs": true,
      "provenance": [],
      "collapsed_sections": []
    },
    "kernelspec": {
      "name": "python3",
      "display_name": "Python 3"
    },
    "language_info": {
      "name": "python"
    },
    "accelerator": "GPU"
  },
  "cells": [
    {
      "cell_type": "code",
      "metadata": {
        "id": "BXLIqUfXI20L"
      },
      "source": [
        "from google.colab import files\n",
        "files.upload()"
      ],
      "execution_count": null,
      "outputs": []
    },
    {
      "cell_type": "code",
      "metadata": {
        "id": "waPrx63jJV4x"
      },
      "source": [
        "!mkdir -p ~/.kaggle"
      ],
      "execution_count": null,
      "outputs": []
    },
    {
      "cell_type": "code",
      "metadata": {
        "id": "Jg-qWZGQJfIY"
      },
      "source": [
        "!cp kaggle.json ~/.kaggle/"
      ],
      "execution_count": null,
      "outputs": []
    },
    {
      "cell_type": "code",
      "metadata": {
        "id": "s4uoltQrJfPZ"
      },
      "source": [
        "!kaggle datasets download -d ahmedmoorsy/facial-expression"
      ],
      "execution_count": null,
      "outputs": []
    },
    {
      "cell_type": "code",
      "metadata": {
        "id": "E2NpibhhKKSw"
      },
      "source": [
        "!ls"
      ],
      "execution_count": null,
      "outputs": []
    },
    {
      "cell_type": "code",
      "metadata": {
        "id": "YjPRTlczLG0g"
      },
      "source": [
        "!unzip facial-expression.zip"
      ],
      "execution_count": null,
      "outputs": []
    },
    {
      "cell_type": "code",
      "metadata": {
        "id": "TzU_jBSTLOoe"
      },
      "source": [
        "ls"
      ],
      "execution_count": null,
      "outputs": []
    },
    {
      "cell_type": "code",
      "metadata": {
        "id": "2ujpXy4hh9lA"
      },
      "source": [
        "# 라이브러리 정리\n",
        "import os\n",
        "import numpy as np\n",
        "import pandas as pd\n",
        "import tensorflow as tf\n",
        "import keras\n",
        "from keras.models import Sequential\n",
        "from keras.layers import Conv2D, MaxPooling2D, AveragePooling2D\n",
        "from keras.layers import Dense, Activation, Dropout, Flatten\n",
        "from keras.preprocessing import image\n",
        "from keras.preprocessing.image import ImageDataGenerator\n",
        "import pandas as pd\n",
        "import numpy as np\n",
        "import matplotlib.pyplot as plt\n",
        "from keras.models import Sequential\n",
        "from keras.layers import Dense , Activation , Dropout ,Flatten\n",
        "from keras.layers.convolutional import Conv2D\n",
        "from keras.layers.convolutional import MaxPooling2D\n",
        "from keras.metrics import categorical_accuracy\n",
        "from keras.models import model_from_json\n",
        "from keras.callbacks import ModelCheckpoint\n",
        "from keras.optimizers import *\n",
        "from keras.layers.normalization import BatchNormalization\n",
        "from sklearn.model_selection import train_test_split\n",
        "from tensorflow.python.keras.callbacks import EarlyStopping\n",
        "from google.colab import files\n",
        "from skimage import io"
      ],
      "execution_count": null,
      "outputs": []
    },
    {
      "cell_type": "code",
      "metadata": {
        "id": "dqU4tettMXj_"
      },
      "source": [
        "# 경로 확인\n",
        "print(os.listdir(\"../content/fer2013\"))"
      ],
      "execution_count": null,
      "outputs": []
    },
    {
      "cell_type": "code",
      "metadata": {
        "id": "hntnqFbmiOe0"
      },
      "source": [
        "# 데이터 불러오기\n",
        "filname = '../content/fer2013/fer2013.csv'\n",
        "label_map = ['Anger', 'Disgust', 'Fear', 'Happy', 'Sad', 'Surprise', 'Neutral']\n",
        "names=['emotion','pixels','usage']\n",
        "df=pd.read_csv('../content/fer2013/fer2013.csv',names=names, na_filter=False)\n",
        "im=df['pixels']\n",
        "df.head(10)"
      ],
      "execution_count": null,
      "outputs": []
    },
    {
      "cell_type": "code",
      "metadata": {
        "id": "PVVkOGYUidp4"
      },
      "source": [
        "def getData(filname):\n",
        "    # images are 48x48\n",
        "    # N = 35887\n",
        "    Y = []\n",
        "    X = []\n",
        "    first = True\n",
        "    for line in open(filname):\n",
        "        if first:\n",
        "            first = False\n",
        "        else:\n",
        "            row = line.split(',')\n",
        "            Y.append(int(row[0]))\n",
        "            X.append([int(p) for p in row[1].split()])\n",
        "\n",
        "    X, Y = np.array(X) / 255.0, np.array(Y)\n",
        "    return X, Y"
      ],
      "execution_count": null,
      "outputs": []
    },
    {
      "cell_type": "code",
      "metadata": {
        "id": "DcfvkzAAihFX"
      },
      "source": [
        "X, Y = getData(filname)\n",
        "\n",
        "# 레이블 ['Anger', 'Disgust', 'Fear', 'Happy', 'Sad', 'Surprise', 'Neutral']\n",
        "num_class = len(set(Y))\n",
        "print(num_class)"
      ],
      "execution_count": null,
      "outputs": []
    },
    {
      "cell_type": "code",
      "metadata": {
        "id": "tOYGloWHjWtl"
      },
      "source": [
        "# reshape\n",
        "N, D = X.shape\n",
        "X = X.reshape(N, 48, 48, 1)"
      ],
      "execution_count": null,
      "outputs": []
    },
    {
      "cell_type": "code",
      "metadata": {
        "id": "3hnSanQ0jWvt"
      },
      "source": [
        "# 데이터 나누기\n",
        "\n",
        "X_train, X_test, y_train, y_test = train_test_split(X, Y, test_size=0.2, random_state=2021)\n",
        "y_train = (np.arange(num_class) == y_train[:, None]).astype(np.float32)\n",
        "y_test = (np.arange(num_class) == y_test[:, None]).astype(np.float32)"
      ],
      "execution_count": null,
      "outputs": []
    },
    {
      "cell_type": "code",
      "metadata": {
        "id": "zukStQIzjWx6"
      },
      "source": [
        "# CNN 모델\n",
        "\n",
        "def my_model():\n",
        "    model = Sequential()\n",
        "    input_shape = (48,48,1)\n",
        "    model.add(Conv2D(64, (5, 5), input_shape=input_shape,activation='relu', padding='same'))\n",
        "    model.add(Conv2D(64, (5, 5), activation='relu', padding='same'))\n",
        "    model.add(BatchNormalization())\n",
        "    model.add(MaxPooling2D(pool_size=(2, 2)))\n",
        "\n",
        "    model.add(Conv2D(128, (5, 5),activation='relu',padding='same'))\n",
        "    model.add(Conv2D(128, (5, 5),activation='relu',padding='same'))\n",
        "    model.add(BatchNormalization())\n",
        "    model.add(MaxPooling2D(pool_size=(2, 2)))\n",
        "\n",
        "    model.add(Conv2D(256, (3, 3),activation='relu',padding='same'))\n",
        "    model.add(Conv2D(256, (3, 3),activation='relu',padding='same'))\n",
        "    model.add(BatchNormalization())\n",
        "    model.add(MaxPooling2D(pool_size=(2, 2)))\n",
        "\n",
        "    model.add(Flatten())\n",
        "    model.add(Dense(128))\n",
        "    model.add(BatchNormalization())\n",
        "    model.add(Activation('relu'))\n",
        "    model.add(Dropout(0.2))\n",
        "    model.add(Dense(7))\n",
        "    model.add(Activation('softmax'))\n",
        "    \n",
        "    model.compile(loss='categorical_crossentropy', metrics=['accuracy'],optimizer='adam')\n",
        "    \n",
        "    return model\n",
        "model=my_model()\n",
        "model.summary()"
      ],
      "execution_count": null,
      "outputs": []
    },
    {
      "cell_type": "code",
      "metadata": {
        "id": "1koFAnbakKHT"
      },
      "source": [
        "# early stopping\n",
        "early_stopping = EarlyStopping(monitor='val_loss',min_delta=0,patience=5,mode='auto')\n",
        "\n",
        "# fit the model\n",
        "h=model.fit(x=X_train,     \n",
        "            y=y_train, \n",
        "            batch_size=64, \n",
        "            epochs=30, \n",
        "            verbose=1, \n",
        "            validation_data=(X_test,y_test),\n",
        "            shuffle=True,\n",
        "            callbacks=[early_stopping]\n",
        "            )"
      ],
      "execution_count": null,
      "outputs": []
    },
    {
      "cell_type": "code",
      "metadata": {
        "id": "t7f_evUSo6dj"
      },
      "source": [
        "model.evaluate(X_test,y_test,batch_size=32)"
      ],
      "execution_count": null,
      "outputs": []
    },
    {
      "cell_type": "code",
      "metadata": {
        "id": "9ps3SNYHGbXK"
      },
      "source": [
        "objects = ('angry', 'disgust', 'fear', 'happy', 'sad', 'surprise', 'neutral')\n",
        "y_pos = np.arange(len(objects))"
      ],
      "execution_count": null,
      "outputs": []
    },
    {
      "cell_type": "code",
      "metadata": {
        "id": "cEuI5bVpGTsT"
      },
      "source": [
        "def emotion_analysis(emotions):\n",
        "    objects = ['angry', 'disgust', 'fear', 'happy', 'sad', 'surprise', 'neutral']\n",
        "    y_pos = np.arange(len(objects))\n",
        "    plt.bar(y_pos, emotions, align='center', alpha=0.9)\n",
        "    plt.tick_params(axis='x', which='both', pad=10,width=4,length=10)\n",
        "    plt.xticks(y_pos, objects)\n",
        "    plt.ylabel('percentage')\n",
        "    plt.title('emotion')\n",
        "    \n",
        "plt.show()"
      ],
      "execution_count": null,
      "outputs": []
    },
    {
      "cell_type": "code",
      "metadata": {
        "id": "wdGcp4pmrw0M"
      },
      "source": [
        "y_pred=model.predict(X_test)\n",
        "print(y_pred)"
      ],
      "execution_count": null,
      "outputs": []
    },
    {
      "cell_type": "code",
      "metadata": {
        "id": "TpqGl96_sUAH"
      },
      "source": [
        "uploaded = files.upload()"
      ],
      "execution_count": null,
      "outputs": []
    },
    {
      "cell_type": "code",
      "metadata": {
        "id": "uHEYvyUXGyfD"
      },
      "source": [
        "uploaded = files.upload()"
      ],
      "execution_count": null,
      "outputs": []
    },
    {
      "cell_type": "code",
      "metadata": {
        "id": "SODkdb5ftl6S"
      },
      "source": [
        "def realtest(path):\n",
        "    img = image.load_img(path, grayscale=True, target_size=(48, 48))\n",
        "    show_img=image.load_img(path, grayscale=False, target_size=(200, 200))\n",
        "    x = image.img_to_array(img)\n",
        "    x = np.expand_dims(x, axis = 0)\n",
        "\n",
        "    x /= 255\n",
        "\n",
        "    custom = model.predict(x)\n",
        "    #print(custom[0])\n",
        "    emotion_analysis(custom[0])\n",
        "\n",
        "    x = np.array(x, 'float32')\n",
        "    x = x.reshape([48, 48]);\n",
        "\n",
        "    plt.gray()\n",
        "    plt.imshow(show_img)\n",
        "    plt.show()\n",
        "\n",
        "    m=0.000000000000000000001\n",
        "    a=custom[0]\n",
        "    for i in range(0,len(a)):\n",
        "        if a[i]>m:\n",
        "            m=a[i]\n",
        "            ind=i\n",
        "            \n",
        "    print('Expression Prediction:',objects[ind])"
      ],
      "execution_count": null,
      "outputs": []
    },
    {
      "cell_type": "code",
      "metadata": {
        "id": "ExYSlwh6ucvz"
      },
      "source": [
        "path = '/content/angry.jpg'\n",
        "\n",
        "realtest(path)"
      ],
      "execution_count": null,
      "outputs": []
    },
    {
      "cell_type": "code",
      "metadata": {
        "id": "5l9VRCQIs5Zj"
      },
      "source": [
        "path2 = '/content/happy.jpg'\n",
        "\n",
        "realtest(path2)"
      ],
      "execution_count": null,
      "outputs": []
    },
    {
      "cell_type": "code",
      "metadata": {
        "id": "Gy-dRF9zvcdZ"
      },
      "source": [
        "# 마스크는 인식하지 못함\n",
        "path3 = '/content/mask.jpg'\n",
        "\n",
        "realtest(path3)"
      ],
      "execution_count": null,
      "outputs": []
    },
    {
      "cell_type": "code",
      "metadata": {
        "id": "EF05RZBZv7_z"
      },
      "source": [
        "# 두명은 인식하지 못함\n",
        "path4 = '/content/two.jpg'\n",
        "\n",
        "realtest(path4)"
      ],
      "execution_count": null,
      "outputs": []
    }
  ]
}